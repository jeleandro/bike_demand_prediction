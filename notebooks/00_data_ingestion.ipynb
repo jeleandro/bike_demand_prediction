{
 "cells": [
  {
   "cell_type": "code",
   "execution_count": 1,
   "id": "a548fe4e",
   "metadata": {},
   "outputs": [],
   "source": [
    "import pandas as pd\n",
    "import numpy as np\n",
    "import matplotlib.pyplot as plt\n",
    "import seaborn as sns\n",
    "from pprint import pprint\n",
    "from tqdm import tqdm\n",
    "from functools import reduce"
   ]
  },
  {
   "cell_type": "markdown",
   "id": "615c7f59",
   "metadata": {},
   "source": [
    "# loading weather data"
   ]
  },
  {
   "cell_type": "code",
   "execution_count": 4,
   "id": "51907dcf",
   "metadata": {},
   "outputs": [],
   "source": [
    "import openmeteo_requests\n",
    "\n",
    "import requests_cache\n",
    "from retry_requests import retry"
   ]
  },
  {
   "cell_type": "code",
   "execution_count": 5,
   "id": "9baeba26",
   "metadata": {},
   "outputs": [],
   "source": [
    "def load_weather_data(lat=40.715422, lon=-74.01122, start_date=\"2015-01-01\", end_date=\"2019-12-31\"):\n",
    "    # Setup the Open-Meteo API client with cache and retry on error\n",
    "    cache_session = requests_cache.CachedSession('.cache', expire_after = -1)\n",
    "    retry_session = retry(cache_session, retries = 5, backoff_factor = 0.2)\n",
    "    openmeteo = openmeteo_requests.Client(session = retry_session)\n",
    "\n",
    "    # Make sure all required weather variables are listed here\n",
    "    # The order of variables in hourly or daily is important to assign them correctly below\n",
    "    url = \"https://archive-api.open-meteo.com/v1/archive\"\n",
    "    variables = [\"temperature_2m\",\n",
    "         \"cloud_cover\", \"cloud_cover_low\", \n",
    "         \"snow_depth\", \"wind_speed_10m\", \"wind_speed_100m\", \"pressure_msl\",\n",
    "          \"surface_pressure\", \"relative_humidity_2m\", \"precipitation\", \"rain\", \n",
    "          \"snowfall\", \"dew_point_2m\", \"apparent_temperature\"]\n",
    "    params = {\n",
    "        \"latitude\": lat,\n",
    "        \"longitude\": lon,\n",
    "        \"start_date\": start_date,\n",
    "        \"end_date\": end_date,\n",
    "        \"hourly\": variables,\n",
    "        \"timezone\": \"America/New_York\"\n",
    "    }\n",
    "    responses = openmeteo.weather_api(url, params=params)\n",
    "\n",
    "    # Process first location. Add a for-loop for multiple locations or weather models\n",
    "    response = responses[0]\n",
    "\n",
    "    # Process hourly data. The order of variables needs to be the same as requested.\n",
    "    hourly = response.Hourly()\n",
    "\n",
    "    hourly_data = {\"date\": pd.date_range(\n",
    "        start = pd.to_datetime(hourly.Time(), unit = \"s\", utc = True),\n",
    "        end = pd.to_datetime(hourly.TimeEnd(), unit = \"s\", utc = True),\n",
    "        freq = pd.Timedelta(seconds = hourly.Interval()),\n",
    "        inclusive = \"left\"\n",
    "    )}\n",
    "    \n",
    "    for i, variable in enumerate(variables):\n",
    "        hourly_data[variable] = hourly.Variables(i).ValuesAsNumpy()\n",
    "\n",
    "    hourly_dataframe = pd.DataFrame(data = hourly_data)\n",
    "    return hourly_dataframe"
   ]
  },
  {
   "cell_type": "code",
   "execution_count": 6,
   "id": "6f1e7dcc",
   "metadata": {},
   "outputs": [],
   "source": [
    "df_weather = load_weather_data()"
   ]
  },
  {
   "cell_type": "code",
   "execution_count": 7,
   "id": "a3ba7bf5",
   "metadata": {},
   "outputs": [],
   "source": [
    "df_weather.to_parquet('../data/01_raw/weather.parquet')"
   ]
  },
  {
   "cell_type": "markdown",
   "id": "7a22fff5",
   "metadata": {},
   "source": [
    "# Loading bike data"
   ]
  },
  {
   "cell_type": "code",
   "execution_count": 2,
   "id": "3362aa83",
   "metadata": {},
   "outputs": [],
   "source": [
    "def load_bike_data():\n",
    "    # Load bike data from a CSV file or any other source\n",
    "    # This is a placeholder function; implement as needed\n",
    "    from sklearn.datasets import fetch_openml\n",
    "    data = fetch_openml(data_id=43526, as_frame=True)\n",
    "\n",
    "    data=(\n",
    "        data['frame']\n",
    "        .drop(columns=['Unnamed:_0'])\n",
    "        .assign(\n",
    "            Start_Time=lambda df: pd.to_datetime(df['Start_Time']),\n",
    "            Stop_Time=lambda df: pd.to_datetime(df['Stop_Time']),\n",
    "        )\n",
    "        .astype({\n",
    "            'User_Type': 'category',\n",
    "            'End_Station_Name': 'category',\n",
    "            'Start_Station_Name': 'category',\n",
    "        })\n",
    "        .rename(columns=lambda x: x.lower())\n",
    "        # station with no geo-location\n",
    "        .query('start_station_id != 3442 and end_station_id != 3442')\n",
    "    )\n",
    "\n",
    "    return data"
   ]
  },
  {
   "cell_type": "code",
   "execution_count": 3,
   "id": "59e7b626",
   "metadata": {},
   "outputs": [],
   "source": [
    "data = load_bike_data()"
   ]
  },
  {
   "cell_type": "code",
   "execution_count": 4,
   "id": "7d53ad4f",
   "metadata": {},
   "outputs": [],
   "source": [
    "data.to_parquet('../data/01_raw/bike.parquet')"
   ]
  },
  {
   "cell_type": "code",
   "execution_count": null,
   "id": "89815b43",
   "metadata": {},
   "outputs": [],
   "source": []
  }
 ],
 "metadata": {
  "kernelspec": {
   "display_name": "data_science_env",
   "language": "python",
   "name": "python3"
  },
  "language_info": {
   "codemirror_mode": {
    "name": "ipython",
    "version": 3
   },
   "file_extension": ".py",
   "mimetype": "text/x-python",
   "name": "python",
   "nbconvert_exporter": "python",
   "pygments_lexer": "ipython3",
   "version": "3.12.11"
  }
 },
 "nbformat": 4,
 "nbformat_minor": 5
}
